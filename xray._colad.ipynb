{
  "nbformat": 4,
  "nbformat_minor": 0,
  "metadata": {
    "kernelspec": {
      "name": "python3",
      "display_name": "Python 3"
    },
    "language_info": {
      "codemirror_mode": {
        "name": "ipython",
        "version": 3
      },
      "file_extension": ".py",
      "mimetype": "text/x-python",
      "name": "python",
      "nbconvert_exporter": "python",
      "pygments_lexer": "ipython3",
      "version": "3.6.8"
    },
    "colab": {
      "name": "xray.ipynb",
      "provenance": [],
      "collapsed_sections": [],
      "toc_visible": true
    },
    "accelerator": "GPU"
  },
  "cells": [
    {
      "cell_type": "code",
      "metadata": {
        "id": "p-Vgs725V67q",
        "colab_type": "code",
        "colab": {
          "base_uri": "https://localhost:8080/",
          "height": 124
        },
        "outputId": "813035ab-d040-41aa-991d-231770139696"
      },
      "source": [
        "from google.colab import drive\n",
        "drive.mount('/content/drive')"
      ],
      "execution_count": 5,
      "outputs": [
        {
          "output_type": "stream",
          "text": [
            "Go to this URL in a browser: https://accounts.google.com/o/oauth2/auth?client_id=947318989803-6bn6qk8qdgf4n4g3pfee6491hc0brc4i.apps.googleusercontent.com&redirect_uri=urn%3aietf%3awg%3aoauth%3a2.0%3aoob&response_type=code&scope=email%20https%3a%2f%2fwww.googleapis.com%2fauth%2fdocs.test%20https%3a%2f%2fwww.googleapis.com%2fauth%2fdrive%20https%3a%2f%2fwww.googleapis.com%2fauth%2fdrive.photos.readonly%20https%3a%2f%2fwww.googleapis.com%2fauth%2fpeopleapi.readonly\n",
            "\n",
            "Enter your authorization code:\n",
            "··········\n",
            "Mounted at /content/drive\n"
          ],
          "name": "stdout"
        }
      ]
    },
    {
      "cell_type": "code",
      "metadata": {
        "id": "b3lxT_5sY4zM",
        "colab_type": "code",
        "colab": {
          "base_uri": "https://localhost:8080/",
          "height": 34
        },
        "outputId": "da5627f8-e235-4e34-e4ac-5d92f96f9607"
      },
      "source": [
        "cd /content/drive/My Drive/Machine learning"
      ],
      "execution_count": 6,
      "outputs": [
        {
          "output_type": "stream",
          "text": [
            "/content/drive/My Drive/Machine learning\n"
          ],
          "name": "stdout"
        }
      ]
    },
    {
      "cell_type": "code",
      "metadata": {
        "id": "vo8XcxlKZGff",
        "colab_type": "code",
        "colab": {}
      },
      "source": [
        "#!unzip xray_new.zip"
      ],
      "execution_count": 0,
      "outputs": []
    },
    {
      "cell_type": "code",
      "metadata": {
        "id": "mz-mYhHiVoLC",
        "colab_type": "code",
        "colab": {}
      },
      "source": [
        "from __future__ import print_function, division\n",
        "\n",
        "import torch\n",
        "import torch.nn as nn\n",
        "import torch.optim as optim\n",
        "from torch.optim import lr_scheduler\n",
        "import numpy as np\n",
        "import torchvision\n",
        "from torchvision import datasets, models, transforms\n",
        "import matplotlib.pyplot as plt\n",
        "import time\n",
        "import os\n",
        "import copy\n",
        "\n",
        "plt.ion()   # interactive mode"
      ],
      "execution_count": 0,
      "outputs": []
    },
    {
      "cell_type": "markdown",
      "metadata": {
        "id": "ZH3UAWn3nmIs",
        "colab_type": "text"
      },
      "source": [
        "## Data transformation"
      ]
    },
    {
      "cell_type": "code",
      "metadata": {
        "id": "KQRwcH1zVoLW",
        "colab_type": "code",
        "colab": {}
      },
      "source": [
        "# Data augmentation and normalization for training\n",
        "# Just normalization for validation\n",
        "data_transforms = {\n",
        "    'train': transforms.Compose([\n",
        "        transforms.RandomResizedCrop(224),\n",
        "        transforms.RandomHorizontalFlip(),\n",
        "        transforms.ToTensor(),\n",
        "        transforms.Normalize([0.485, 0.456, 0.406], [0.229, 0.224, 0.225])\n",
        "    ]),\n",
        "    \n",
        "    'val': transforms.Compose([\n",
        "        transforms.Resize(256),\n",
        "        transforms.CenterCrop(224),\n",
        "        transforms.ToTensor(),\n",
        "        transforms.Normalize([0.485, 0.456, 0.406], [0.229, 0.224, 0.225])\n",
        "    ]),\n",
        "    \n",
        "    'sample': transforms.Compose([\n",
        "        transforms.Resize(256),\n",
        "        transforms.CenterCrop(224),\n",
        "        transforms.ToTensor(),\n",
        "        transforms.Normalize([0.485, 0.456, 0.406], [0.229, 0.224, 0.225])\n",
        "    ])\n",
        "}\n",
        "\n",
        "data_dir = 'xray'\n",
        "image_datasets = {x: datasets.ImageFolder(os.path.join(data_dir, x),\n",
        "                                          data_transforms[x])\n",
        "                  for x in ['train', 'val','sample']}\n",
        "dataloaders = {x: torch.utils.data.DataLoader(image_datasets[x], batch_size=4,\n",
        "                                             shuffle=True, num_workers=4)\n",
        "              for x in ['train', 'val','sample']}\n",
        "dataset_sizes = {x: len(image_datasets[x]) for x in ['train', 'val','sample']}\n",
        "class_names = image_datasets['train'].classes\n",
        "\n",
        "device = torch.device(\"cuda:0\" if torch.cuda.is_available() else \"cpu\")\n"
      ],
      "execution_count": 0,
      "outputs": []
    },
    {
      "cell_type": "code",
      "metadata": {
        "id": "BxjExR4jVoLn",
        "colab_type": "code",
        "colab": {
          "base_uri": "https://localhost:8080/",
          "height": 148
        },
        "outputId": "cf44a781-3d12-4d60-d33f-96aed6d31e32"
      },
      "source": [
        "def imshow(inp, title=None):\n",
        "    \"\"\"Imshow for Tensor.\"\"\"\n",
        "    inp = inp.numpy().transpose((1, 2, 0))\n",
        "    mean = np.array([0.485, 0.456, 0.406])\n",
        "    std = np.array([0.229, 0.224, 0.225])\n",
        "    inp = std * inp + mean\n",
        "    inp = np.clip(inp, 0, 1)\n",
        "    plt.imshow(inp)\n",
        "    if title is not None:\n",
        "        plt.title(title)\n",
        "    plt.pause(0.001)  # pause a bit so that plots are updated\n",
        "\n",
        "\n",
        "# Get a batch of training data\n",
        "inputs, classes = next(iter(dataloaders['train']))\n",
        "\n",
        "# Make a grid from batch\n",
        "out = torchvision.utils.make_grid(inputs)\n",
        "\n",
        "imshow(out, title=[class_names[x] for x in classes])"
      ],
      "execution_count": 14,
      "outputs": [
        {
          "output_type": "display_data",
          "data": {
            "image/png": "[encoded data removed]",
            "text/plain": [
              "<Figure size 432x288 with 1 Axes>"
            ]
          },
          "metadata": {
            "tags": []
          }
        }
      ]
    },
    {
      "cell_type": "markdown",
      "metadata": {
        "id": "JSDsL2ginp-f",
        "colab_type": "text"
      },
      "source": [
        "## Training the acquired images"
      ]
    },
    {
      "cell_type": "code",
      "metadata": {
        "id": "rSl8avvdVoL4",
        "colab_type": "code",
        "colab": {}
      },
      "source": [
        "def train_model(model, criterion, optimizer, scheduler, num_epochs=25):\n",
        "    since = time.time()\n",
        "\n",
        "    best_model_wts = copy.deepcopy(model.state_dict())\n",
        "    best_acc = 0.0\n",
        "\n",
        "    for epoch in range(num_epochs):\n",
        "        print('Epoch {}/{}'.format(epoch, num_epochs - 1))\n",
        "        print('-' * 10)\n",
        "\n",
        "        # Each epoch has a training and validation phase\n",
        "        for phase in ['train', 'val']:\n",
        "            if phase == 'train':\n",
        "                model.train()  # Set model to training mode\n",
        "            else:\n",
        "                model.eval()   # Set model to evaluate mode\n",
        "\n",
        "            running_loss = 0.0\n",
        "            running_corrects = 0\n",
        "\n",
        "            # Iterate over data.\n",
        "            for inputs, labels in dataloaders[phase]:\n",
        "                inputs = inputs.to(device)\n",
        "                labels = labels.to(device)\n",
        "\n",
        "                # zero the parameter gradients\n",
        "                optimizer.zero_grad()\n",
        "\n",
        "                # forward\n",
        "                # track history if only in train\n",
        "                with torch.set_grad_enabled(phase == 'train'):\n",
        "                    outputs = model(inputs)\n",
        "                    _, preds = torch.max(outputs, 1)\n",
        "                    loss = criterion(outputs, labels)\n",
        "\n",
        "                    # backward + optimize only if in training phase\n",
        "                    if phase == 'train':\n",
        "                        loss.backward()\n",
        "                        optimizer.step()\n",
        "\n",
        "                # statistics\n",
        "                running_loss += loss.item() * inputs.size(0)\n",
        "                running_corrects += torch.sum(preds == labels.data)\n",
        "            if phase == 'train':\n",
        "                scheduler.step()\n",
        "\n",
        "            epoch_loss = running_loss / dataset_sizes[phase]\n",
        "            epoch_acc = running_corrects.double() / dataset_sizes[phase]\n",
        "\n",
        "            print('{} Loss: {:.4f} Acc: {:.4f}'.format(\n",
        "                phase, epoch_loss, epoch_acc))\n",
        "\n",
        "            # deep copy the model\n",
        "            if phase == 'val' and epoch_acc > best_acc:\n",
        "                best_acc = epoch_acc\n",
        "                best_model_wts = copy.deepcopy(model.state_dict())\n",
        "                \n",
        "                # save best model weights\n",
        "                torch.save(model.state_dict,os.path.join('weights','model.pt'))\n",
        "\n",
        "        print()\n",
        "\n",
        "    time_elapsed = time.time() - since\n",
        "    print('Training complete in {:.0f}m {:.0f}s'.format(\n",
        "        time_elapsed // 60, time_elapsed % 60))\n",
        "    print('Best val Acc: {:4f}'.format(best_acc))\n",
        "\n",
        "    # load best model weights\n",
        "    model.load_state_dict(best_model_wts)\n",
        "    \n",
        "    # saving the whole model\n",
        "    torch.save(model, os.path.join('model','mdl.pt'))\n",
        "    return model"
      ],
      "execution_count": 0,
      "outputs": []
    },
    {
      "cell_type": "code",
      "metadata": {
        "id": "TkgPYPPuVoMF",
        "colab_type": "code",
        "colab": {}
      },
      "source": [
        "def visualize_model(model, num_images):\n",
        "    was_training = model.training\n",
        "    model.eval()\n",
        "    images_so_far = 0\n",
        "    fig = plt.figure()\n",
        "\n",
        "    with torch.no_grad():\n",
        "        for i, (inputs, labels) in enumerate(dataloaders['val']):\n",
        "            inputs = inputs.to(device)\n",
        "            labels = labels.to(device)\n",
        "\n",
        "            outputs = model(inputs)\n",
        "            _, preds = torch.max(outputs, 1)\n",
        "\n",
        "            for j in range(inputs.size()[0]):\n",
        "                images_so_far += 1\n",
        "                ax = plt.subplot(num_images//2, 2, images_so_far)\n",
        "                ax.axis('off')\n",
        "                ax.set_title('predicted: {}'.format(class_names[preds[j]]))\n",
        "                imshow(inputs.cpu().data[j])\n",
        "\n",
        "                if images_so_far == num_images:\n",
        "                    model.train(mode=was_training)\n",
        "                    return\n",
        "        model.train(mode=was_training)"
      ],
      "execution_count": 0,
      "outputs": []
    },
    {
      "cell_type": "code",
      "metadata": {
        "id": "4zBYUuWwVoMT",
        "colab_type": "code",
        "colab": {}
      },
      "source": [
        "model_ft = models.resnet18(pretrained=True)\n",
        "num_ftrs = model_ft.fc.in_features\n",
        "# Here the size of each output sample is set to 2.\n",
        "# Alternatively, it can be generalized to nn.Linear(num_ftrs, len(class_names)).\n",
        "model_ft.fc = nn.Linear(num_ftrs, 2)\n",
        "\n",
        "model_ft = model_ft.to(device)\n",
        "\n",
        "criterion = nn.CrossEntropyLoss()\n",
        "\n",
        "# Observe that all parameters are being optimized\n",
        "optimizer_ft = optim.SGD(model_ft.parameters(), lr=0.001, momentum=0.6)\n",
        "#optimizer_ft = optim.Adam(model_ft.parameters(), lr=0.001)\n",
        "\n",
        "# Decay LR by a factor of 0.1 every 7 epochs\n",
        "exp_lr_scheduler = lr_scheduler.StepLR(optimizer_ft, step_size=7, gamma=0.1)"
      ],
      "execution_count": 0,
      "outputs": []
    },
    {
      "cell_type": "code",
      "metadata": {
        "id": "Fy1yKsjuVoMf",
        "colab_type": "code",
        "colab": {
          "base_uri": "https://localhost:8080/",
          "height": 1000
        },
        "outputId": "20c2ffb5-2f78-4cd6-fb79-dfc6a360cbd2"
      },
      "source": [
        "model_ft = train_model(model_ft, criterion, optimizer_ft, exp_lr_scheduler,\n",
        "                       num_epochs=25)"
      ],
      "execution_count": 18,
      "outputs": [
        {
          "output_type": "stream",
          "text": [
            "Epoch 0/24\n",
            "----------\n",
            "train Loss: 0.5796 Acc: 0.6959\n",
            "val Loss: 0.3174 Acc: 0.9000\n",
            "\n",
            "Epoch 1/24\n",
            "----------\n",
            "train Loss: 0.3873 Acc: 0.8378\n",
            "val Loss: 0.2265 Acc: 0.9500\n",
            "\n",
            "Epoch 2/24\n",
            "----------\n",
            "train Loss: 0.3412 Acc: 0.8446\n",
            "val Loss: 0.1834 Acc: 0.9250\n",
            "\n",
            "Epoch 3/24\n",
            "----------\n",
            "train Loss: 0.3003 Acc: 0.9122\n",
            "val Loss: 0.1675 Acc: 0.9250\n",
            "\n",
            "Epoch 4/24\n",
            "----------\n",
            "train Loss: 0.3904 Acc: 0.8176\n",
            "val Loss: 0.1410 Acc: 0.9250\n",
            "\n",
            "Epoch 5/24\n",
            "----------\n",
            "train Loss: 0.1920 Acc: 0.9189\n",
            "val Loss: 0.2200 Acc: 0.9250\n",
            "\n",
            "Epoch 6/24\n",
            "----------\n",
            "train Loss: 0.3108 Acc: 0.8716\n",
            "val Loss: 0.1294 Acc: 0.9250\n",
            "\n",
            "Epoch 7/24\n",
            "----------\n",
            "train Loss: 0.2195 Acc: 0.8851\n",
            "val Loss: 0.1668 Acc: 0.9250\n",
            "\n",
            "Epoch 8/24\n",
            "----------\n",
            "train Loss: 0.2449 Acc: 0.8986\n",
            "val Loss: 0.1332 Acc: 0.9500\n",
            "\n",
            "Epoch 9/24\n",
            "----------\n",
            "train Loss: 0.3415 Acc: 0.8311\n",
            "val Loss: 0.1823 Acc: 0.9250\n",
            "\n",
            "Epoch 10/24\n",
            "----------\n",
            "train Loss: 0.3451 Acc: 0.8649\n",
            "val Loss: 0.1275 Acc: 0.9500\n",
            "\n",
            "Epoch 11/24\n",
            "----------\n",
            "train Loss: 0.1590 Acc: 0.9459\n",
            "val Loss: 0.1354 Acc: 0.9500\n",
            "\n",
            "Epoch 12/24\n",
            "----------\n",
            "train Loss: 0.2587 Acc: 0.8986\n",
            "val Loss: 0.1528 Acc: 0.9250\n",
            "\n",
            "Epoch 13/24\n",
            "----------\n",
            "train Loss: 0.3001 Acc: 0.8581\n",
            "val Loss: 0.1577 Acc: 0.9250\n",
            "\n",
            "Epoch 14/24\n",
            "----------\n",
            "train Loss: 0.1824 Acc: 0.9257\n",
            "val Loss: 0.1329 Acc: 0.9250\n",
            "\n",
            "Epoch 15/24\n",
            "----------\n",
            "train Loss: 0.2533 Acc: 0.8851\n",
            "val Loss: 0.1459 Acc: 0.9500\n",
            "\n",
            "Epoch 16/24\n",
            "----------\n",
            "train Loss: 0.3200 Acc: 0.8716\n",
            "val Loss: 0.1594 Acc: 0.9250\n",
            "\n",
            "Epoch 17/24\n",
            "----------\n",
            "train Loss: 0.2369 Acc: 0.8919\n",
            "val Loss: 0.1825 Acc: 0.9250\n",
            "\n",
            "Epoch 18/24\n",
            "----------\n",
            "train Loss: 0.1918 Acc: 0.9189\n",
            "val Loss: 0.1708 Acc: 0.9250\n",
            "\n",
            "Epoch 19/24\n",
            "----------\n",
            "train Loss: 0.2443 Acc: 0.8919\n",
            "val Loss: 0.1310 Acc: 0.9500\n",
            "\n",
            "Epoch 20/24\n",
            "----------\n",
            "train Loss: 0.2703 Acc: 0.8919\n",
            "val Loss: 0.1561 Acc: 0.9250\n",
            "\n",
            "Epoch 21/24\n",
            "----------\n",
            "train Loss: 0.2924 Acc: 0.8716\n",
            "val Loss: 0.1583 Acc: 0.9250\n",
            "\n",
            "Epoch 22/24\n",
            "----------\n",
            "train Loss: 0.2964 Acc: 0.8784\n",
            "val Loss: 0.1326 Acc: 0.9500\n",
            "\n",
            "Epoch 23/24\n",
            "----------\n",
            "train Loss: 0.2252 Acc: 0.8986\n",
            "val Loss: 0.1445 Acc: 0.9250\n",
            "\n",
            "Epoch 24/24\n",
            "----------\n",
            "train Loss: 0.2246 Acc: 0.9054\n",
            "val Loss: 0.1364 Acc: 0.9500\n",
            "\n",
            "Training complete in 3m 56s\n",
            "Best val Acc: 0.950000\n"
          ],
          "name": "stdout"
        }
      ]
    },
    {
      "cell_type": "markdown",
      "metadata": {
        "id": "_U0Xkepzn2x-",
        "colab_type": "text"
      },
      "source": [
        "## Inference on the validation images"
      ]
    },
    {
      "cell_type": "code",
      "metadata": {
        "id": "es70Sts2VoMr",
        "colab_type": "code",
        "colab": {
          "base_uri": "https://localhost:8080/",
          "height": 381
        },
        "outputId": "69ac046f-a3d7-4e64-b18f-58d9296531ab"
      },
      "source": [
        "visualize_model(model_ft,2)"
      ],
      "execution_count": 39,
      "outputs": [
        {
          "output_type": "display_data",
          "data": {
            "image/png": "[encoded data removed]",
            "text/plain": [
              "<Figure size 432x288 with 1 Axes>"
            ]
          },
          "metadata": {
            "tags": []
          }
        },
        {
          "output_type": "display_data",
          "data": {
            "image/png": "[encoded data removed]",
            "text/plain": [
              "<Figure size 432x288 with 1 Axes>"
            ]
          },
          "metadata": {
            "tags": []
          }
        }
      ]
    },
    {
      "cell_type": "markdown",
      "metadata": {
        "id": "BO5I3D2HVoM2",
        "colab_type": "text"
      },
      "source": [
        "## Inferencing on a random x-ray image"
      ]
    },
    {
      "cell_type": "code",
      "metadata": {
        "id": "86XD7iAAVoM3",
        "colab_type": "code",
        "colab": {}
      },
      "source": [
        "def visualize_model_sample(model, num_images):\n",
        "    was_training = model.training\n",
        "    model.eval()\n",
        "    images_so_far = 0\n",
        "    fig = plt.figure()\n",
        "\n",
        "    with torch.no_grad():\n",
        "        for i, (inputs, labels) in enumerate(dataloaders['sample']):\n",
        "            inputs = inputs.to(device)\n",
        "            labels = labels.to(device)\n",
        "\n",
        "            outputs = model(inputs)\n",
        "            _, preds = torch.max(outputs, 1)\n",
        "\n",
        "            for j in range(inputs.size()[0]):\n",
        "                images_so_far += 1\n",
        "                ax = plt.subplot(num_images//2, 2, images_so_far)\n",
        "                ax.axis('off')\n",
        "                ax.set_title('predicted: {}'.format(class_names[preds[j]]))\n",
        "                imshow(inputs.cpu().data[j])\n",
        "\n",
        "                if images_so_far == num_images:\n",
        "                    model.train(mode=was_training)\n",
        "                    return\n",
        "        model.train(mode=was_training)"
      ],
      "execution_count": 0,
      "outputs": []
    },
    {
      "cell_type": "code",
      "metadata": {
        "id": "wZkh2Hm9VoNL",
        "colab_type": "code",
        "colab": {}
      },
      "source": [
        "def classify_one_sample(model):\n",
        "    was_training = model.training\n",
        "    model.eval()\n",
        "    images_so_far = 0\n",
        "    fig = plt.figure()\n",
        "\n",
        "    with torch.no_grad():\n",
        "        for i, (inputs, labels) in enumerate(dataloaders['sample']):\n",
        "            inputs = inputs.to(device)\n",
        "            labels = labels.to(device)\n",
        "            outputs = model(inputs)\n",
        "            _, preds = torch.max(outputs, 1)\n",
        "    return class_names[preds]"
      ],
      "execution_count": 0,
      "outputs": []
    },
    {
      "cell_type": "code",
      "metadata": {
        "id": "J4susNfAl7Gb",
        "colab_type": "code",
        "colab": {
          "base_uri": "https://localhost:8080/",
          "height": 52
        },
        "outputId": "4b4b97c5-8902-4842-b58b-a98c8634bf1b"
      },
      "source": [
        "model_l = torch.load('model/mdl.pt')\n",
        "classify_one_sample(model_l)"
      ],
      "execution_count": 11,
      "outputs": [
        {
          "output_type": "execute_result",
          "data": {
            "text/plain": [
              "'PNEUMONIA'"
            ]
          },
          "metadata": {
            "tags": []
          },
          "execution_count": 11
        },
        {
          "output_type": "display_data",
          "data": {
            "text/plain": [
              "<Figure size 432x288 with 0 Axes>"
            ]
          },
          "metadata": {
            "tags": []
          }
        }
      ]
    },
    {
      "cell_type": "code",
      "metadata": {
        "id": "a3GsSqQ4NZNB",
        "colab_type": "code",
        "colab": {}
      },
      "source": [
        ""
      ],
      "execution_count": 0,
      "outputs": []
    }
  ]
}